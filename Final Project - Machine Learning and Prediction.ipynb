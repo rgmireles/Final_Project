{
 "cells": [
  {
   "cell_type": "markdown",
   "metadata": {},
   "source": [
    "# FINAL PROJECT - Machine Learning and Prediction"
   ]
  },
  {
   "cell_type": "code",
   "execution_count": 2,
   "metadata": {},
   "outputs": [],
   "source": [
    "import pandas as pd\n",
    "from sklearn.linear_model import LinearRegression\n",
    "from sklearn.model_selection import train_test_split\n",
    "import matplotlib.pyplot as plt\n",
    "%matplotlib inline\n",
    "from sklearn import metrics\n",
    "import numpy as np"
   ]
  },
  {
   "cell_type": "code",
   "execution_count": 5,
   "metadata": {},
   "outputs": [],
   "source": [
    "data = pd.read_csv('C:/Users/kandi/OneDrive/Bethel Tech Work/Final Project/FullDataSetTransposed.csv')"
   ]
  },
  {
   "cell_type": "code",
   "execution_count": 6,
   "metadata": {},
   "outputs": [
    {
     "data": {
      "text/html": [
       "<div>\n",
       "<style scoped>\n",
       "    .dataframe tbody tr th:only-of-type {\n",
       "        vertical-align: middle;\n",
       "    }\n",
       "\n",
       "    .dataframe tbody tr th {\n",
       "        vertical-align: top;\n",
       "    }\n",
       "\n",
       "    .dataframe thead th {\n",
       "        text-align: right;\n",
       "    }\n",
       "</style>\n",
       "<table border=\"1\" class=\"dataframe\">\n",
       "  <thead>\n",
       "    <tr style=\"text-align: right;\">\n",
       "      <th></th>\n",
       "      <th>ACTIVE,FULL TIME</th>\n",
       "      <th>ACTIVE,PART TIME</th>\n",
       "      <th>ACTIVE,3/4 TIME</th>\n",
       "      <th>ACTIVE,Temp/Seasonal</th>\n",
       "      <th>LEAVE OF ABSENCE,FULL TIME</th>\n",
       "      <th>LEAVE OF ABSENCE,PART TIME</th>\n",
       "      <th>TERMINATED,FULL TIME</th>\n",
       "      <th>TERMINATED,PART TIME</th>\n",
       "      <th>TERMINATED,Temp/Seasonal</th>\n",
       "      <th>Sales</th>\n",
       "      <th>...</th>\n",
       "      <th>Net Ordinary Income</th>\n",
       "      <th>Prior Period Credit/Expense</th>\n",
       "      <th>Misc Other Income</th>\n",
       "      <th>Total Other Income</th>\n",
       "      <th>Absorbed Expense</th>\n",
       "      <th>Misc Other Expense</th>\n",
       "      <th>Owner Wage Draw</th>\n",
       "      <th>Total Other Expense</th>\n",
       "      <th>Net Other Income</th>\n",
       "      <th>Net Income</th>\n",
       "    </tr>\n",
       "  </thead>\n",
       "  <tbody>\n",
       "    <tr>\n",
       "      <td>0</td>\n",
       "      <td>1281</td>\n",
       "      <td>152</td>\n",
       "      <td>0</td>\n",
       "      <td>42</td>\n",
       "      <td>5</td>\n",
       "      <td>6</td>\n",
       "      <td>1189</td>\n",
       "      <td>136</td>\n",
       "      <td>148</td>\n",
       "      <td>4</td>\n",
       "      <td>...</td>\n",
       "      <td>26492.12</td>\n",
       "      <td>0.00</td>\n",
       "      <td>2572.11</td>\n",
       "      <td>2572.11</td>\n",
       "      <td>0.00</td>\n",
       "      <td>800.00</td>\n",
       "      <td>12106.78</td>\n",
       "      <td>12906.78</td>\n",
       "      <td>-10334.67</td>\n",
       "      <td>16157.45</td>\n",
       "    </tr>\n",
       "    <tr>\n",
       "      <td>1</td>\n",
       "      <td>1338</td>\n",
       "      <td>159</td>\n",
       "      <td>0</td>\n",
       "      <td>44</td>\n",
       "      <td>3</td>\n",
       "      <td>0</td>\n",
       "      <td>1224</td>\n",
       "      <td>136</td>\n",
       "      <td>149</td>\n",
       "      <td>4</td>\n",
       "      <td>...</td>\n",
       "      <td>44936.05</td>\n",
       "      <td>0.00</td>\n",
       "      <td>-2129.75</td>\n",
       "      <td>-2129.75</td>\n",
       "      <td>0.00</td>\n",
       "      <td>0.00</td>\n",
       "      <td>25532.16</td>\n",
       "      <td>25532.16</td>\n",
       "      <td>-27661.91</td>\n",
       "      <td>17274.14</td>\n",
       "    </tr>\n",
       "    <tr>\n",
       "      <td>2</td>\n",
       "      <td>1357</td>\n",
       "      <td>170</td>\n",
       "      <td>0</td>\n",
       "      <td>44</td>\n",
       "      <td>4</td>\n",
       "      <td>1</td>\n",
       "      <td>1256</td>\n",
       "      <td>141</td>\n",
       "      <td>151</td>\n",
       "      <td>4</td>\n",
       "      <td>...</td>\n",
       "      <td>28386.50</td>\n",
       "      <td>-2800.00</td>\n",
       "      <td>1962.73</td>\n",
       "      <td>-837.27</td>\n",
       "      <td>0.00</td>\n",
       "      <td>1250.00</td>\n",
       "      <td>25006.25</td>\n",
       "      <td>26256.25</td>\n",
       "      <td>-27093.52</td>\n",
       "      <td>1292.98</td>\n",
       "    </tr>\n",
       "    <tr>\n",
       "      <td>3</td>\n",
       "      <td>1312</td>\n",
       "      <td>109</td>\n",
       "      <td>0</td>\n",
       "      <td>60</td>\n",
       "      <td>1</td>\n",
       "      <td>1</td>\n",
       "      <td>1355</td>\n",
       "      <td>206</td>\n",
       "      <td>157</td>\n",
       "      <td>3</td>\n",
       "      <td>...</td>\n",
       "      <td>33084.67</td>\n",
       "      <td>66021.45</td>\n",
       "      <td>-863.50</td>\n",
       "      <td>65157.95</td>\n",
       "      <td>5670.47</td>\n",
       "      <td>2506.30</td>\n",
       "      <td>24961.38</td>\n",
       "      <td>33138.15</td>\n",
       "      <td>32019.80</td>\n",
       "      <td>65104.47</td>\n",
       "    </tr>\n",
       "    <tr>\n",
       "      <td>4</td>\n",
       "      <td>1390</td>\n",
       "      <td>114</td>\n",
       "      <td>0</td>\n",
       "      <td>82</td>\n",
       "      <td>1</td>\n",
       "      <td>1</td>\n",
       "      <td>1395</td>\n",
       "      <td>210</td>\n",
       "      <td>165</td>\n",
       "      <td>3</td>\n",
       "      <td>...</td>\n",
       "      <td>40862.23</td>\n",
       "      <td>0.00</td>\n",
       "      <td>207.60</td>\n",
       "      <td>207.60</td>\n",
       "      <td>0.00</td>\n",
       "      <td>1110.16</td>\n",
       "      <td>24961.38</td>\n",
       "      <td>26071.54</td>\n",
       "      <td>-25863.94</td>\n",
       "      <td>14998.29</td>\n",
       "    </tr>\n",
       "  </tbody>\n",
       "</table>\n",
       "<p>5 rows × 42 columns</p>\n",
       "</div>"
      ],
      "text/plain": [
       "   ACTIVE,FULL TIME  ACTIVE,PART TIME  ACTIVE,3/4 TIME  ACTIVE,Temp/Seasonal  \\\n",
       "0              1281               152                0                    42   \n",
       "1              1338               159                0                    44   \n",
       "2              1357               170                0                    44   \n",
       "3              1312               109                0                    60   \n",
       "4              1390               114                0                    82   \n",
       "\n",
       "   LEAVE OF ABSENCE,FULL TIME  LEAVE OF ABSENCE,PART TIME  \\\n",
       "0                           5                           6   \n",
       "1                           3                           0   \n",
       "2                           4                           1   \n",
       "3                           1                           1   \n",
       "4                           1                           1   \n",
       "\n",
       "   TERMINATED,FULL TIME  TERMINATED,PART TIME  TERMINATED,Temp/Seasonal  \\\n",
       "0                  1189                   136                       148   \n",
       "1                  1224                   136                       149   \n",
       "2                  1256                   141                       151   \n",
       "3                  1355                   206                       157   \n",
       "4                  1395                   210                       165   \n",
       "\n",
       "   Sales  ...  Net Ordinary Income  Prior Period Credit/Expense  \\\n",
       "0      4  ...             26492.12                         0.00   \n",
       "1      4  ...             44936.05                         0.00   \n",
       "2      4  ...             28386.50                     -2800.00   \n",
       "3      3  ...             33084.67                     66021.45   \n",
       "4      3  ...             40862.23                         0.00   \n",
       "\n",
       "   Misc Other Income  Total Other Income  Absorbed Expense  \\\n",
       "0            2572.11             2572.11              0.00   \n",
       "1           -2129.75            -2129.75              0.00   \n",
       "2            1962.73             -837.27              0.00   \n",
       "3            -863.50            65157.95           5670.47   \n",
       "4             207.60              207.60              0.00   \n",
       "\n",
       "   Misc Other Expense  Owner Wage Draw  Total Other Expense  Net Other Income  \\\n",
       "0              800.00         12106.78             12906.78         -10334.67   \n",
       "1                0.00         25532.16             25532.16         -27661.91   \n",
       "2             1250.00         25006.25             26256.25         -27093.52   \n",
       "3             2506.30         24961.38             33138.15          32019.80   \n",
       "4             1110.16         24961.38             26071.54         -25863.94   \n",
       "\n",
       "   Net Income  \n",
       "0    16157.45  \n",
       "1    17274.14  \n",
       "2     1292.98  \n",
       "3    65104.47  \n",
       "4    14998.29  \n",
       "\n",
       "[5 rows x 42 columns]"
      ]
     },
     "execution_count": 6,
     "metadata": {},
     "output_type": "execute_result"
    }
   ],
   "source": [
    "data.head()"
   ]
  },
  {
   "cell_type": "code",
   "execution_count": 15,
   "metadata": {},
   "outputs": [
    {
     "data": {
      "text/plain": [
       "0     1433.0\n",
       "1     1497.0\n",
       "2     1527.0\n",
       "3     1421.0\n",
       "4     1504.0\n",
       "5     1521.0\n",
       "6     1661.0\n",
       "7     1671.0\n",
       "8     1675.0\n",
       "9     1776.0\n",
       "10    1753.0\n",
       "11    1853.0\n",
       "12    1981.0\n",
       "dtype: float64"
      ]
     },
     "execution_count": 15,
     "metadata": {},
     "output_type": "execute_result"
    }
   ],
   "source": [
    "def sum(row):\n",
    "    return row['ACTIVE,FULL TIME'] + row['ACTIVE,PART TIME'] + row['ACTIVE,3/4 TIME']\n",
    "\n",
    "data.apply(sum, axis=1)"
   ]
  },
  {
   "cell_type": "code",
   "execution_count": 16,
   "metadata": {},
   "outputs": [],
   "source": [
    "data['TOTAL WSES']= data.apply(sum, axis=1)"
   ]
  },
  {
   "cell_type": "code",
   "execution_count": 21,
   "metadata": {},
   "outputs": [
    {
     "data": {
      "text/html": [
       "<div>\n",
       "<style scoped>\n",
       "    .dataframe tbody tr th:only-of-type {\n",
       "        vertical-align: middle;\n",
       "    }\n",
       "\n",
       "    .dataframe tbody tr th {\n",
       "        vertical-align: top;\n",
       "    }\n",
       "\n",
       "    .dataframe thead th {\n",
       "        text-align: right;\n",
       "    }\n",
       "</style>\n",
       "<table border=\"1\" class=\"dataframe\">\n",
       "  <thead>\n",
       "    <tr style=\"text-align: right;\">\n",
       "      <th></th>\n",
       "      <th>ACTIVE,FULL TIME</th>\n",
       "      <th>ACTIVE,PART TIME</th>\n",
       "      <th>ACTIVE,3/4 TIME</th>\n",
       "      <th>ACTIVE,Temp/Seasonal</th>\n",
       "      <th>LEAVE OF ABSENCE,FULL TIME</th>\n",
       "      <th>LEAVE OF ABSENCE,PART TIME</th>\n",
       "      <th>TERMINATED,FULL TIME</th>\n",
       "      <th>TERMINATED,PART TIME</th>\n",
       "      <th>TERMINATED,Temp/Seasonal</th>\n",
       "      <th>Sales</th>\n",
       "      <th>...</th>\n",
       "      <th>Prior Period Credit/Expense</th>\n",
       "      <th>Misc Other Income</th>\n",
       "      <th>Total Other Income</th>\n",
       "      <th>Absorbed Expense</th>\n",
       "      <th>Misc Other Expense</th>\n",
       "      <th>Owner Wage Draw</th>\n",
       "      <th>Total Other Expense</th>\n",
       "      <th>Net Other Income</th>\n",
       "      <th>Net Income</th>\n",
       "      <th>TOTAL WSES</th>\n",
       "    </tr>\n",
       "  </thead>\n",
       "  <tbody>\n",
       "    <tr>\n",
       "      <td>0</td>\n",
       "      <td>1281</td>\n",
       "      <td>152</td>\n",
       "      <td>0</td>\n",
       "      <td>42</td>\n",
       "      <td>5</td>\n",
       "      <td>6</td>\n",
       "      <td>1189</td>\n",
       "      <td>136</td>\n",
       "      <td>148</td>\n",
       "      <td>4</td>\n",
       "      <td>...</td>\n",
       "      <td>0.00</td>\n",
       "      <td>2572.11</td>\n",
       "      <td>2572.11</td>\n",
       "      <td>0.00</td>\n",
       "      <td>800.00</td>\n",
       "      <td>12106.78</td>\n",
       "      <td>12906.78</td>\n",
       "      <td>-10334.67</td>\n",
       "      <td>16157.45</td>\n",
       "      <td>1433.0</td>\n",
       "    </tr>\n",
       "    <tr>\n",
       "      <td>1</td>\n",
       "      <td>1338</td>\n",
       "      <td>159</td>\n",
       "      <td>0</td>\n",
       "      <td>44</td>\n",
       "      <td>3</td>\n",
       "      <td>0</td>\n",
       "      <td>1224</td>\n",
       "      <td>136</td>\n",
       "      <td>149</td>\n",
       "      <td>4</td>\n",
       "      <td>...</td>\n",
       "      <td>0.00</td>\n",
       "      <td>-2129.75</td>\n",
       "      <td>-2129.75</td>\n",
       "      <td>0.00</td>\n",
       "      <td>0.00</td>\n",
       "      <td>25532.16</td>\n",
       "      <td>25532.16</td>\n",
       "      <td>-27661.91</td>\n",
       "      <td>17274.14</td>\n",
       "      <td>1497.0</td>\n",
       "    </tr>\n",
       "    <tr>\n",
       "      <td>2</td>\n",
       "      <td>1357</td>\n",
       "      <td>170</td>\n",
       "      <td>0</td>\n",
       "      <td>44</td>\n",
       "      <td>4</td>\n",
       "      <td>1</td>\n",
       "      <td>1256</td>\n",
       "      <td>141</td>\n",
       "      <td>151</td>\n",
       "      <td>4</td>\n",
       "      <td>...</td>\n",
       "      <td>-2800.00</td>\n",
       "      <td>1962.73</td>\n",
       "      <td>-837.27</td>\n",
       "      <td>0.00</td>\n",
       "      <td>1250.00</td>\n",
       "      <td>25006.25</td>\n",
       "      <td>26256.25</td>\n",
       "      <td>-27093.52</td>\n",
       "      <td>1292.98</td>\n",
       "      <td>1527.0</td>\n",
       "    </tr>\n",
       "    <tr>\n",
       "      <td>3</td>\n",
       "      <td>1312</td>\n",
       "      <td>109</td>\n",
       "      <td>0</td>\n",
       "      <td>60</td>\n",
       "      <td>1</td>\n",
       "      <td>1</td>\n",
       "      <td>1355</td>\n",
       "      <td>206</td>\n",
       "      <td>157</td>\n",
       "      <td>3</td>\n",
       "      <td>...</td>\n",
       "      <td>66021.45</td>\n",
       "      <td>-863.50</td>\n",
       "      <td>65157.95</td>\n",
       "      <td>5670.47</td>\n",
       "      <td>2506.30</td>\n",
       "      <td>24961.38</td>\n",
       "      <td>33138.15</td>\n",
       "      <td>32019.80</td>\n",
       "      <td>65104.47</td>\n",
       "      <td>1421.0</td>\n",
       "    </tr>\n",
       "    <tr>\n",
       "      <td>4</td>\n",
       "      <td>1390</td>\n",
       "      <td>114</td>\n",
       "      <td>0</td>\n",
       "      <td>82</td>\n",
       "      <td>1</td>\n",
       "      <td>1</td>\n",
       "      <td>1395</td>\n",
       "      <td>210</td>\n",
       "      <td>165</td>\n",
       "      <td>3</td>\n",
       "      <td>...</td>\n",
       "      <td>0.00</td>\n",
       "      <td>207.60</td>\n",
       "      <td>207.60</td>\n",
       "      <td>0.00</td>\n",
       "      <td>1110.16</td>\n",
       "      <td>24961.38</td>\n",
       "      <td>26071.54</td>\n",
       "      <td>-25863.94</td>\n",
       "      <td>14998.29</td>\n",
       "      <td>1504.0</td>\n",
       "    </tr>\n",
       "  </tbody>\n",
       "</table>\n",
       "<p>5 rows × 43 columns</p>\n",
       "</div>"
      ],
      "text/plain": [
       "   ACTIVE,FULL TIME  ACTIVE,PART TIME  ACTIVE,3/4 TIME  ACTIVE,Temp/Seasonal  \\\n",
       "0              1281               152                0                    42   \n",
       "1              1338               159                0                    44   \n",
       "2              1357               170                0                    44   \n",
       "3              1312               109                0                    60   \n",
       "4              1390               114                0                    82   \n",
       "\n",
       "   LEAVE OF ABSENCE,FULL TIME  LEAVE OF ABSENCE,PART TIME  \\\n",
       "0                           5                           6   \n",
       "1                           3                           0   \n",
       "2                           4                           1   \n",
       "3                           1                           1   \n",
       "4                           1                           1   \n",
       "\n",
       "   TERMINATED,FULL TIME  TERMINATED,PART TIME  TERMINATED,Temp/Seasonal  \\\n",
       "0                  1189                   136                       148   \n",
       "1                  1224                   136                       149   \n",
       "2                  1256                   141                       151   \n",
       "3                  1355                   206                       157   \n",
       "4                  1395                   210                       165   \n",
       "\n",
       "   Sales  ...  Prior Period Credit/Expense  Misc Other Income  \\\n",
       "0      4  ...                         0.00            2572.11   \n",
       "1      4  ...                         0.00           -2129.75   \n",
       "2      4  ...                     -2800.00            1962.73   \n",
       "3      3  ...                     66021.45            -863.50   \n",
       "4      3  ...                         0.00             207.60   \n",
       "\n",
       "   Total Other Income  Absorbed Expense  Misc Other Expense  Owner Wage Draw  \\\n",
       "0             2572.11              0.00              800.00         12106.78   \n",
       "1            -2129.75              0.00                0.00         25532.16   \n",
       "2             -837.27              0.00             1250.00         25006.25   \n",
       "3            65157.95           5670.47             2506.30         24961.38   \n",
       "4              207.60              0.00             1110.16         24961.38   \n",
       "\n",
       "   Total Other Expense  Net Other Income  Net Income  TOTAL WSES  \n",
       "0             12906.78         -10334.67    16157.45      1433.0  \n",
       "1             25532.16         -27661.91    17274.14      1497.0  \n",
       "2             26256.25         -27093.52     1292.98      1527.0  \n",
       "3             33138.15          32019.80    65104.47      1421.0  \n",
       "4             26071.54         -25863.94    14998.29      1504.0  \n",
       "\n",
       "[5 rows x 43 columns]"
      ]
     },
     "execution_count": 21,
     "metadata": {},
     "output_type": "execute_result"
    }
   ],
   "source": [
    "data.head()"
   ]
  },
  {
   "cell_type": "code",
   "execution_count": 44,
   "metadata": {},
   "outputs": [],
   "source": [
    "x= data[['TOTAL WSES','Payroll']]"
   ]
  },
  {
   "cell_type": "code",
   "execution_count": 45,
   "metadata": {},
   "outputs": [],
   "source": [
    "y= data['Gross Profit']"
   ]
  },
  {
   "cell_type": "code",
   "execution_count": 82,
   "metadata": {},
   "outputs": [],
   "source": [
    "x_train, x_test, y_train, y_test = train_test_split(x,y, test_size = .3)"
   ]
  },
  {
   "cell_type": "code",
   "execution_count": 83,
   "metadata": {},
   "outputs": [
    {
     "name": "stdout",
     "output_type": "stream",
     "text": [
      "(9, 2) (9,)\n",
      "(4, 2) (9,)\n"
     ]
    }
   ],
   "source": [
    "print(x_train.shape, y_train.shape)\n",
    "print(x_test.shape, y_train.shape)"
   ]
  },
  {
   "cell_type": "code",
   "execution_count": 84,
   "metadata": {},
   "outputs": [
    {
     "data": {
      "text/plain": [
       "LinearRegression(copy_X=True, fit_intercept=True, n_jobs=None, normalize=False)"
      ]
     },
     "execution_count": 84,
     "metadata": {},
     "output_type": "execute_result"
    }
   ],
   "source": [
    "lm = LinearRegression()\n",
    "lm.fit(x_train, y_train)"
   ]
  },
  {
   "cell_type": "code",
   "execution_count": 85,
   "metadata": {},
   "outputs": [
    {
     "data": {
      "text/plain": [
       "array([153238.52114905, 157960.0154069 , 166222.63035814, 190278.17198858])"
      ]
     },
     "execution_count": 85,
     "metadata": {},
     "output_type": "execute_result"
    }
   ],
   "source": [
    "predictions = lm.predict(x_test)\n",
    "predictions"
   ]
  },
  {
   "cell_type": "code",
   "execution_count": 86,
   "metadata": {},
   "outputs": [
    {
     "data": {
      "text/plain": [
       "<matplotlib.collections.PathCollection at 0x23ef11393c8>"
      ]
     },
     "execution_count": 86,
     "metadata": {},
     "output_type": "execute_result"
    },
    {
     "data": {
      "image/png": "[encoded data removed]",
      "text/plain": [
       "<Figure size 432x288 with 1 Axes>"
      ]
     },
     "metadata": {
      "needs_background": "light"
     },
     "output_type": "display_data"
    }
   ],
   "source": [
    "plt.scatter(y_test, predictions)"
   ]
  },
  {
   "cell_type": "code",
   "execution_count": 87,
   "metadata": {},
   "outputs": [
    {
     "name": "stdout",
     "output_type": "stream",
     "text": [
      "Score: 0.4529733277837937\n"
     ]
    }
   ],
   "source": [
    "print(\"Score:\", lm.score(x_test, y_test))"
   ]
  },
  {
   "cell_type": "code",
   "execution_count": null,
   "metadata": {},
   "outputs": [],
   "source": []
  }
 ],
 "metadata": {
  "kernelspec": {
   "display_name": "Python 3",
   "language": "python",
   "name": "python3"
  },
  "language_info": {
   "codemirror_mode": {
    "name": "ipython",
    "version": 3
   },
   "file_extension": ".py",
   "mimetype": "text/x-python",
   "name": "python",
   "nbconvert_exporter": "python",
   "pygments_lexer": "ipython3",
   "version": "3.7.4"
  }
 },
 "nbformat": 4,
 "nbformat_minor": 2
}
